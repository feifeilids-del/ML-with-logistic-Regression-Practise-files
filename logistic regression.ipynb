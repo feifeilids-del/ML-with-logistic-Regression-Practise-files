{
 "cells": [
  {
   "cell_type": "code",
   "execution_count": 1,
   "id": "1c95a9cb-e11d-4a72-a1e6-3325039d84a3",
   "metadata": {},
   "outputs": [],
   "source": [
    "# import the package\n",
    "import pandas as pd"
   ]
  },
  {
   "cell_type": "code",
   "execution_count": 2,
   "id": "e855a6a3-ca03-4e25-ad5b-f681e0124562",
   "metadata": {},
   "outputs": [],
   "source": [
    "#import our data into the dataframe\n",
    "loan = pd.read_csv(\"loan.csv\")"
   ]
  },
  {
   "cell_type": "code",
   "execution_count": 3,
   "id": "8286b811-51ea-4436-b669-317ae04edd18",
   "metadata": {},
   "outputs": [
    {
     "data": {
      "text/html": [
       "<div>\n",
       "<style scoped>\n",
       "    .dataframe tbody tr th:only-of-type {\n",
       "        vertical-align: middle;\n",
       "    }\n",
       "\n",
       "    .dataframe tbody tr th {\n",
       "        vertical-align: top;\n",
       "    }\n",
       "\n",
       "    .dataframe thead th {\n",
       "        text-align: right;\n",
       "    }\n",
       "</style>\n",
       "<table border=\"1\" class=\"dataframe\">\n",
       "  <thead>\n",
       "    <tr style=\"text-align: right;\">\n",
       "      <th></th>\n",
       "      <th>Income</th>\n",
       "      <th>Loan Amount</th>\n",
       "      <th>Default</th>\n",
       "    </tr>\n",
       "  </thead>\n",
       "  <tbody>\n",
       "    <tr>\n",
       "      <th>0</th>\n",
       "      <td>15</td>\n",
       "      <td>8</td>\n",
       "      <td>No</td>\n",
       "    </tr>\n",
       "    <tr>\n",
       "      <th>1</th>\n",
       "      <td>30</td>\n",
       "      <td>8</td>\n",
       "      <td>No</td>\n",
       "    </tr>\n",
       "    <tr>\n",
       "      <th>2</th>\n",
       "      <td>5</td>\n",
       "      <td>9</td>\n",
       "      <td>Yes</td>\n",
       "    </tr>\n",
       "    <tr>\n",
       "      <th>3</th>\n",
       "      <td>22</td>\n",
       "      <td>10</td>\n",
       "      <td>No</td>\n",
       "    </tr>\n",
       "    <tr>\n",
       "      <th>4</th>\n",
       "      <td>33</td>\n",
       "      <td>12</td>\n",
       "      <td>No</td>\n",
       "    </tr>\n",
       "  </tbody>\n",
       "</table>\n",
       "</div>"
      ],
      "text/plain": [
       "   Income  Loan Amount Default\n",
       "0      15            8      No\n",
       "1      30            8      No\n",
       "2       5            9     Yes\n",
       "3      22           10      No\n",
       "4      33           12      No"
      ]
     },
     "execution_count": 3,
     "metadata": {},
     "output_type": "execute_result"
    }
   ],
   "source": [
    "loan.head()"
   ]
  },
  {
   "cell_type": "code",
   "execution_count": 4,
   "id": "4150dfa4-93d0-4dac-a48d-ee53a12ffaa3",
   "metadata": {},
   "outputs": [
    {
     "name": "stdout",
     "output_type": "stream",
     "text": [
      "<class 'pandas.core.frame.DataFrame'>\n",
      "RangeIndex: 30 entries, 0 to 29\n",
      "Data columns (total 3 columns):\n",
      " #   Column       Non-Null Count  Dtype \n",
      "---  ------       --------------  ----- \n",
      " 0   Income       30 non-null     int64 \n",
      " 1   Loan Amount  30 non-null     int64 \n",
      " 2   Default      30 non-null     object\n",
      "dtypes: int64(2), object(1)\n",
      "memory usage: 852.0+ bytes\n"
     ]
    }
   ],
   "source": [
    "# Explore data\n",
    "loan.info()"
   ]
  },
  {
   "cell_type": "code",
   "execution_count": 5,
   "id": "599f7fd8-045c-4ab2-9b22-3776212c69f6",
   "metadata": {},
   "outputs": [],
   "source": [
    "# Prepare Data\n",
    "#create a pandas Series called y for the dependent vaiable. \n",
    "y=loan['Default']"
   ]
  },
  {
   "cell_type": "code",
   "execution_count": 6,
   "id": "9c2b49e5-ef8c-4eac-b5dd-a8a9c898f466",
   "metadata": {},
   "outputs": [
    {
     "data": {
      "text/html": [
       "<div>\n",
       "<style scoped>\n",
       "    .dataframe tbody tr th:only-of-type {\n",
       "        vertical-align: middle;\n",
       "    }\n",
       "\n",
       "    .dataframe tbody tr th {\n",
       "        vertical-align: top;\n",
       "    }\n",
       "\n",
       "    .dataframe thead th {\n",
       "        text-align: right;\n",
       "    }\n",
       "</style>\n",
       "<table border=\"1\" class=\"dataframe\">\n",
       "  <thead>\n",
       "    <tr style=\"text-align: right;\">\n",
       "      <th></th>\n",
       "      <th>Income</th>\n",
       "      <th>Loan Amount</th>\n",
       "    </tr>\n",
       "  </thead>\n",
       "  <tbody>\n",
       "    <tr>\n",
       "      <th>count</th>\n",
       "      <td>30.000000</td>\n",
       "      <td>30.000000</td>\n",
       "    </tr>\n",
       "    <tr>\n",
       "      <th>mean</th>\n",
       "      <td>18.766667</td>\n",
       "      <td>51.966667</td>\n",
       "    </tr>\n",
       "    <tr>\n",
       "      <th>std</th>\n",
       "      <td>8.572946</td>\n",
       "      <td>34.055212</td>\n",
       "    </tr>\n",
       "    <tr>\n",
       "      <th>min</th>\n",
       "      <td>5.000000</td>\n",
       "      <td>8.000000</td>\n",
       "    </tr>\n",
       "    <tr>\n",
       "      <th>25%</th>\n",
       "      <td>13.000000</td>\n",
       "      <td>21.250000</td>\n",
       "    </tr>\n",
       "    <tr>\n",
       "      <th>50%</th>\n",
       "      <td>18.000000</td>\n",
       "      <td>49.000000</td>\n",
       "    </tr>\n",
       "    <tr>\n",
       "      <th>75%</th>\n",
       "      <td>25.500000</td>\n",
       "      <td>79.500000</td>\n",
       "    </tr>\n",
       "    <tr>\n",
       "      <th>max</th>\n",
       "      <td>34.000000</td>\n",
       "      <td>110.000000</td>\n",
       "    </tr>\n",
       "  </tbody>\n",
       "</table>\n",
       "</div>"
      ],
      "text/plain": [
       "          Income  Loan Amount\n",
       "count  30.000000    30.000000\n",
       "mean   18.766667    51.966667\n",
       "std     8.572946    34.055212\n",
       "min     5.000000     8.000000\n",
       "25%    13.000000    21.250000\n",
       "50%    18.000000    49.000000\n",
       "75%    25.500000    79.500000\n",
       "max    34.000000   110.000000"
      ]
     },
     "execution_count": 6,
     "metadata": {},
     "output_type": "execute_result"
    }
   ],
   "source": [
    "loan.describe()"
   ]
  },
  {
   "cell_type": "code",
   "execution_count": 7,
   "id": "55e33158-0ccd-46c5-9c91-8c727cc384c0",
   "metadata": {},
   "outputs": [],
   "source": [
    "#Boxplot\n",
    "from matplotlib import pyplot as plt\n",
    "import seaborn as sns"
   ]
  },
  {
   "cell_type": "code",
   "execution_count": 9,
   "id": "08c62a5a-3d22-47e5-ad23-675cb504f9e7",
   "metadata": {},
   "outputs": [
    {
     "data": {
      "image/png": "[encoded data removed]",
      "text/plain": [
       "<Figure size 640x480 with 1 Axes>"
      ]
     },
     "metadata": {},
     "output_type": "display_data"
    }
   ],
   "source": [
    "ax = sns.boxplot(data=loan, x='Default', y='Income')"
   ]
  },
  {
   "cell_type": "code",
   "execution_count": 13,
   "id": "9c6153a1-d77d-498a-a35a-51881f6f37c6",
   "metadata": {},
   "outputs": [
    {
     "data": {
      "image/png": "[encoded data removed]",
      "text/plain": [
       "<Figure size 640x480 with 1 Axes>"
      ]
     },
     "metadata": {},
     "output_type": "display_data"
    }
   ],
   "source": [
    "# Adding color customization to the boxplot\n",
    "ax = sns.boxplot(data=loan, x='Default', y='Income', hue='Default', palette='Set2')  # Using 'Set2' color palette\n",
    "\n",
    "# Alternative with more customization options\n",
    "# ax = sns.boxplot(data=loan, x='Default', y='Income', palette={'Yes': 'salmon', 'No': 'skyblue'})  # Custom colors for each category\n",
    "\n",
    "# Make the plot more visually appealing\n",
    "plt.title('Income Distribution by Default Status')\n",
    "plt.xlabel('Default Status')\n",
    "plt.ylabel('Income')\n",
    "\n",
    "# Display the plot\n",
    "plt.tight_layout()\n",
    "plt.show()"
   ]
  },
  {
   "cell_type": "code",
   "execution_count": 23,
   "id": "b10d3e9b-e6f6-4bfb-8e65-da183f0d2abc",
   "metadata": {},
   "outputs": [
    {
     "data": {
      "image/png": "[encoded data removed]",
      "text/plain": [
       "<Figure size 640x480 with 1 Axes>"
      ]
     },
     "metadata": {},
     "output_type": "display_data"
    }
   ],
   "source": [
    "ax = sns.boxplot(data=loan, x='Default', y='Loan Amount', hue='Default', palette='Set2', legend=False) "
   ]
  },
  {
   "cell_type": "code",
   "execution_count": 24,
   "id": "ec9bc22c-33c0-4a7f-a90e-66bd36829bfa",
   "metadata": {},
   "outputs": [],
   "source": [
    "# ScatterPlot\n",
    "import numpy as np"
   ]
  },
  {
   "cell_type": "markdown",
   "id": "acde13e0-5562-44de-b216-dadbff765463",
   "metadata": {},
   "source": [
    "# Assistant\n",
    "The selected code creates a scatter plot to visualize the relationship between loan amounts and loan default outcomes. Here's a step-by-step explanation:\n",
    "\n",
    "1. `sns.scatterplot()` - This function from the Seaborn library creates a scatter plot.\n",
    "\n",
    "2. `x=loan['Loan Amount']` - Sets the x-axis values to be the \"Loan Amount\" column from the loan dataframe.\n",
    "\n",
    "3. `y = np.where(loan['Default'] =='No',0,1)` - Creates the y-axis values by:\n",
    "   - Using NumPy's `where()` function to convert the categorical \"Default\" column into binary values\n",
    "   - Assigning 0 when \"Default\" is \"No\" (loan not defaulted)\n",
    "   - Assigning 1 when \"Default\" is anything else (loan defaulted)\n",
    "\n",
    "4. `s=150` - Sets the size of each scatter point to 150, making them larger than the default size.\n",
    "\n",
    "5. `ax =` - Captures the returned Axes object, which can be used for further customization of the plot."
   ]
  },
  {
   "cell_type": "code",
   "execution_count": 17,
   "id": "7689c304-40a3-4ac6-8ef9-054fca26aaaa",
   "metadata": {},
   "outputs": [
    {
     "data": {
      "image/png": "[encoded data removed]",
      "text/plain": [
       "<Figure size 640x480 with 1 Axes>"
      ]
     },
     "metadata": {},
     "output_type": "display_data"
    }
   ],
   "source": [
    "# relationships between the income and loan outcomes\n",
    "ax = sns.scatterplot(x = loan['Income'],y =np.where(loan['Default'] == 'No',0,1),s= 150)"
   ]
  },
  {
   "cell_type": "code",
   "execution_count": 20,
   "id": "4dca53a4-94c2-4bed-930b-fbd6805066b3",
   "metadata": {},
   "outputs": [
    {
     "data": {
      "image/png": "[encoded data removed]",
      "text/plain": [
       "<Figure size 640x480 with 1 Axes>"
      ]
     },
     "metadata": {},
     "output_type": "display_data"
    }
   ],
   "source": [
    "#describe the relationship between amount borrored and loan outcomes\n",
    "ax = sns.scatterplot(x=loan['Loan Amount'], y = np.where(loan['Default'] =='No',0,1),s =150)"
   ]
  },
  {
   "cell_type": "code",
   "execution_count": 21,
   "id": "c804a58f-f05b-4d57-8e62-659a3494242f",
   "metadata": {},
   "outputs": [],
   "source": [
    "#Prepare the Data\n",
    "#Create y for the dependent variable\n",
    "y = loan['Default']"
   ]
  },
  {
   "cell_type": "markdown",
   "id": "2431baa4-9e6f-4790-ba37-07a1c1bbb059",
   "metadata": {},
   "source": [
    "# Assistant\n",
    "The selected code creates a new DataFrame called `x` by extracting two specific columns from an existing DataFrame called `loan`.\n",
    "\n",
    "Here's what this line does:\n",
    "- `loan[['Income','Loan Amount']]` - This selects two columns ('Income' and 'Loan Amount') from the `loan` DataFrame using double square brackets notation, which returns a DataFrame rather than a Series\n",
    "- `x = ` - The resulting subset of data is assigned to a new variable named `x`\n",
    "- The comment `#dataframe` indicates that the result is a DataFrame object\n",
    "\n",
    "This is likely being done to prepare these two variables for use in a machine learning model or statistical analysis, where 'Income' and 'Loan Amount' will serve as features or variables of interest."
   ]
  },
  {
   "cell_type": "code",
   "execution_count": 29,
   "id": "c0385c7c-4426-415a-9197-d05428b89af0",
   "metadata": {},
   "outputs": [],
   "source": [
    "X= loan[['Income','Loan Amount']]"
   ]
  },
  {
   "cell_type": "markdown",
   "id": "63e259ba-7dc6-4377-90c7-4d4f3d98ac1c",
   "metadata": {},
   "source": [
    "# Assistant\n",
    "The selected code uses scikit-learn's train_test_split function to divide data into training and testing sets. Here's a step-by-step explanation:\n",
    "\n",
    "1. `from sklearn.model_selection import train_test_split` - Imports the train_test_split function from scikit-learn's model_selection module.\n",
    "\n",
    "2. `X_train,X_test,y_train,y_test = train_test_split(X,y,train_size=0.7,stratify=y,random_state=123)` - Splits the data with these parameters:\n",
    "   - `X` and `y`: The input features and target variables to be split\n",
    "   - `train_size=0.7`: Allocates 70% of the data to the training set\n",
    "   - `stratify=y`: Ensures that the class distribution in the target variable is preserved in both training and testing sets\n",
    "   - `random_state=123`: Sets a seed for reproducible results\n",
    "\n",
    "The function returns four arrays that are assigned to X_train, X_test, y_train, and y_test variables."
   ]
  },
  {
   "cell_type": "code",
   "execution_count": 30,
   "id": "5bf99d1d-72f0-4a9d-bab8-13f1f7dc3cd8",
   "metadata": {},
   "outputs": [],
   "source": [
    "from sklearn.model_selection import train_test_split\n",
    "X_train,X_test,y_train,y_test = train_test_split(X,y,train_size =0.7,stratify = y, random_state =123)"
   ]
  },
  {
   "cell_type": "code",
   "execution_count": 31,
   "id": "210cd2c3-e381-4de7-9395-008568b21d68",
   "metadata": {},
   "outputs": [
    {
     "data": {
      "text/plain": [
       "(21, 2)"
      ]
     },
     "execution_count": 31,
     "metadata": {},
     "output_type": "execute_result"
    }
   ],
   "source": [
    "X_train.shape"
   ]
  },
  {
   "cell_type": "code",
   "execution_count": 32,
   "id": "f3287ff5-b32c-401d-a243-0d830a69e70c",
   "metadata": {},
   "outputs": [
    {
     "data": {
      "text/plain": [
       "(9, 2)"
      ]
     },
     "execution_count": 32,
     "metadata": {},
     "output_type": "execute_result"
    }
   ],
   "source": [
    "X_test.shape"
   ]
  },
  {
   "cell_type": "markdown",
   "id": "9eb1604c-6bc2-4fed-97d0-a06230c97099",
   "metadata": {},
   "source": [
    "Train and Evaluate the Model"
   ]
  },
  {
   "cell_type": "code",
   "execution_count": 34,
   "id": "8791b2c0-670e-4c09-a56f-71b4c9df478a",
   "metadata": {},
   "outputs": [],
   "source": [
    "from sklearn.linear_model import LogisticRegression"
   ]
  },
  {
   "cell_type": "code",
   "execution_count": 35,
   "id": "e7391423-b455-4ac5-b6ad-e0db9944b0bb",
   "metadata": {},
   "outputs": [],
   "source": [
    "# instantiate a new object called classifier from the LogisticRegression class\n",
    "classifier = LogisticRegression()"
   ]
  },
  {
   "cell_type": "code",
   "execution_count": 36,
   "id": "14dd907a-d175-48bd-a924-0401ea3f6c77",
   "metadata": {},
   "outputs": [],
   "source": [
    "# train a model\n",
    "model = classifier.fit(X_train, y_train)"
   ]
  },
  {
   "cell_type": "markdown",
   "id": "67427245-796e-4415-8036-fd4e390c9b23",
   "metadata": {},
   "source": [
    "There are 9 instances in the test set. To predict labels for the test instances, we pass the independent variables of the test set (X_test) to the predict() method of the model."
   ]
  },
  {
   "cell_type": "code",
   "execution_count": 37,
   "id": "640afeca-1a1b-4e44-9aad-d58abb424121",
   "metadata": {},
   "outputs": [
    {
     "data": {
      "text/plain": [
       "array(['Yes', 'Yes', 'Yes', 'Yes', 'Yes', 'Yes', 'Yes', 'Yes', 'No'],\n",
       "      dtype=object)"
      ]
     },
     "execution_count": 37,
     "metadata": {},
     "output_type": "execute_result"
    }
   ],
   "source": [
    "model.predict(X_test)"
   ]
  },
  {
   "cell_type": "markdown",
   "id": "45ff4eaa-68d9-4eb4-b36f-07b9fa152c3d",
   "metadata": {},
   "source": [
    "To evaluate how accurate our model is ,we pass the test data to the score() method of the model"
   ]
  },
  {
   "cell_type": "code",
   "execution_count": 38,
   "id": "461af697-b942-4fa6-8d50-f7b8f122b1c8",
   "metadata": {},
   "outputs": [
    {
     "data": {
      "text/plain": [
       "0.5555555555555556"
      ]
     },
     "execution_count": 38,
     "metadata": {},
     "output_type": "execute_result"
    }
   ],
   "source": [
    "model.score(X_test,y_test)"
   ]
  },
  {
   "cell_type": "markdown",
   "id": "9ed6e6ed-5cdc-4c7f-8f77-23528d6d1f9f",
   "metadata": {},
   "source": [
    "The result tells us that our Logistic Regression model is able to corretly predict 5 out of 9 (or 56%) of the labels in the test set. The accuracy of a model only gives us a one-dim perspective of performance. To get  a broader perspective, we need to generate a confusion(or error ) matrix of the model's performance. \n",
    "To do this, we need ot import confusion_matrix func from thesklearn.metrics subpackage."
   ]
  },
  {
   "cell_type": "code",
   "execution_count": 39,
   "id": "47900b1d-9cf7-4861-bc79-0ee16b97b8da",
   "metadata": {},
   "outputs": [],
   "source": [
    "from sklearn.metrics import confusion_matrix"
   ]
  },
  {
   "cell_type": "code",
   "execution_count": 42,
   "id": "06ab6037-3662-400d-871e-1aea5609a9ec",
   "metadata": {},
   "outputs": [
    {
     "data": {
      "text/plain": [
       "array([[1, 4],\n",
       "       [0, 4]])"
      ]
     },
     "execution_count": 42,
     "metadata": {},
     "output_type": "execute_result"
    }
   ],
   "source": [
    "# Assistant\n",
    "# Calculate and display the confusion matrix to evaluate model performance\n",
    "# - y_test contains the actual target values\n",
    "# - model.predict(X_test) generates predictions on the test data\n",
    "# The confusion matrix shows true positives, false positives, true negatives, and false negatives\n",
    "confusion_matrix(y_test, model.predict(X_test))"
   ]
  },
  {
   "cell_type": "markdown",
   "id": "0ad6a5e7-5249-409c-8c6a-92a01f6cac91",
   "metadata": {},
   "source": [
    "The result is a 2*2 array that shows how many instances the model predicted correctly or incorrectly as either Yes or No. This confusion matrix can be illustated as : The first row of the matrix shows that the 5 instances that were actually No, the model predicted 1 of them as No but 4 of them as Yes. The second row of the matrix shows that of the 4 instances that were actually Yes, the model predicted all 4 correctly as Yes."
   ]
  },
  {
   "cell_type": "markdown",
   "id": "f1b8003d-a382-49af-ae94-99038b677e58",
   "metadata": {},
   "source": [
    "## Interpret the Model"
   ]
  },
  {
   "cell_type": "code",
   "execution_count": 43,
   "id": "b5ceae43-259c-42ed-a65c-97310e283e2c",
   "metadata": {},
   "outputs": [
    {
     "data": {
      "text/plain": [
       "array([1.09296146])"
      ]
     },
     "execution_count": 43,
     "metadata": {},
     "output_type": "execute_result"
    }
   ],
   "source": [
    "# To get the intercept , we refer to the intercept_ attribute of our model.\n",
    "model.intercept_"
   ]
  },
  {
   "cell_type": "code",
   "execution_count": null,
   "id": "88dc3f5d-657a-4224-9537-698a79a6b1ed",
   "metadata": {},
   "outputs": [],
   "source": [
    "# To get the other model coef , we refer to the coef_ attribute of our model"
   ]
  },
  {
   "cell_type": "code",
   "execution_count": 44,
   "id": "63924f39-0dcd-4ddd-b2a8-59accbf8e327",
   "metadata": {},
   "outputs": [
    {
     "data": {
      "text/plain": [
       "array([[-0.13890275,  0.02778433]])"
      ]
     },
     "execution_count": 44,
     "metadata": {},
     "output_type": "execute_result"
    }
   ],
   "source": [
    "model.coef_"
   ]
  },
  {
   "cell_type": "markdown",
   "id": "37c47e35-f845-42a3-86f3-68fd8678a4f3",
   "metadata": {},
   "source": [
    "The model coef correspond to the order in which the independent variables are listed int he training data. This means that the equation for our Logistic Regression model can be written as :\n",
    "log(P/(1-P) = 1.09296146 - 0.13890275 *Income + 0.02778433 * Loan Amount\n",
    "To make our coef easier to work with ,let's convert the coef from a 2-dim array to a one-dim array and round the values to two decimal places."
   ]
  },
  {
   "cell_type": "code",
   "execution_count": 45,
   "id": "f73ba14e-79b7-409c-9f12-18b67f455f7e",
   "metadata": {},
   "outputs": [
    {
     "data": {
      "text/plain": [
       "array([-0.14,  0.03])"
      ]
     },
     "execution_count": 45,
     "metadata": {},
     "output_type": "execute_result"
    }
   ],
   "source": [
    "log_odds = np.round(model.coef_[0],2)\n",
    "log_odds"
   ]
  },
  {
   "cell_type": "code",
   "execution_count": 46,
   "id": "6dcfc972-98d3-4286-94af-c6a0f04d6aee",
   "metadata": {},
   "outputs": [
    {
     "data": {
      "text/html": [
       "<div>\n",
       "<style scoped>\n",
       "    .dataframe tbody tr th:only-of-type {\n",
       "        vertical-align: middle;\n",
       "    }\n",
       "\n",
       "    .dataframe tbody tr th {\n",
       "        vertical-align: top;\n",
       "    }\n",
       "\n",
       "    .dataframe thead th {\n",
       "        text-align: right;\n",
       "    }\n",
       "</style>\n",
       "<table border=\"1\" class=\"dataframe\">\n",
       "  <thead>\n",
       "    <tr style=\"text-align: right;\">\n",
       "      <th></th>\n",
       "      <th>log odds</th>\n",
       "    </tr>\n",
       "  </thead>\n",
       "  <tbody>\n",
       "    <tr>\n",
       "      <th>Income</th>\n",
       "      <td>-0.14</td>\n",
       "    </tr>\n",
       "    <tr>\n",
       "      <th>Loan Amount</th>\n",
       "      <td>0.03</td>\n",
       "    </tr>\n",
       "  </tbody>\n",
       "</table>\n",
       "</div>"
      ],
      "text/plain": [
       "             log odds\n",
       "Income          -0.14\n",
       "Loan Amount      0.03"
      ]
     },
     "execution_count": 46,
     "metadata": {},
     "output_type": "execute_result"
    }
   ],
   "source": [
    "# create a pandas Dataframe using the coef values and the cluumn names fromt he training data as row indexes:\n",
    "pd.DataFrame({'log odds': log_odds},index = X.columns)"
   ]
  },
  {
   "cell_type": "markdown",
   "id": "877f9756-e7c9-451d-933e-e7be0c12f04d",
   "metadata": {},
   "source": [
    "The first coef tells us that , when all other variables are held constand, a $1 increase in a borrowers income decreases the log odds that they will default on their loan by 0.14 .Likewise, the second coef shows that a $1 increase in the amount a customer borrows, increases the log odds that they will default on their loan by 0.03 when all other vairables are held constant.\n",
    "Let's exponentiate the coef so we can interpret them in terms of odds rather than log odds:"
   ]
  },
  {
   "cell_type": "code",
   "execution_count": 47,
   "id": "ae643406-d659-4b33-bff0-c34f09e86200",
   "metadata": {},
   "outputs": [
    {
     "data": {
      "text/html": [
       "<div>\n",
       "<style scoped>\n",
       "    .dataframe tbody tr th:only-of-type {\n",
       "        vertical-align: middle;\n",
       "    }\n",
       "\n",
       "    .dataframe tbody tr th {\n",
       "        vertical-align: top;\n",
       "    }\n",
       "\n",
       "    .dataframe thead th {\n",
       "        text-align: right;\n",
       "    }\n",
       "</style>\n",
       "<table border=\"1\" class=\"dataframe\">\n",
       "  <thead>\n",
       "    <tr style=\"text-align: right;\">\n",
       "      <th></th>\n",
       "      <th>odd</th>\n",
       "    </tr>\n",
       "  </thead>\n",
       "  <tbody>\n",
       "    <tr>\n",
       "      <th>Income</th>\n",
       "      <td>0.87</td>\n",
       "    </tr>\n",
       "    <tr>\n",
       "      <th>Loan Amount</th>\n",
       "      <td>1.03</td>\n",
       "    </tr>\n",
       "  </tbody>\n",
       "</table>\n",
       "</div>"
      ],
      "text/plain": [
       "              odd\n",
       "Income       0.87\n",
       "Loan Amount  1.03"
      ]
     },
     "execution_count": 47,
     "metadata": {},
     "output_type": "execute_result"
    }
   ],
   "source": [
    "odds = np. round(np.exp(log_odds),2)\n",
    "pd.DataFrame({'odd':odds},index = X.columns)"
   ]
  },
  {
   "cell_type": "code",
   "execution_count": 48,
   "id": "72486113-1f40-4726-90b9-9311e6fbcd7f",
   "metadata": {},
   "outputs": [
    {
     "data": {
      "text/html": [
       "<div>\n",
       "<style scoped>\n",
       "    .dataframe tbody tr th:only-of-type {\n",
       "        vertical-align: middle;\n",
       "    }\n",
       "\n",
       "    .dataframe tbody tr th {\n",
       "        vertical-align: top;\n",
       "    }\n",
       "\n",
       "    .dataframe thead th {\n",
       "        text-align: right;\n",
       "    }\n",
       "</style>\n",
       "<table border=\"1\" class=\"dataframe\">\n",
       "  <thead>\n",
       "    <tr style=\"text-align: right;\">\n",
       "      <th></th>\n",
       "      <th>odd</th>\n",
       "    </tr>\n",
       "  </thead>\n",
       "  <tbody>\n",
       "    <tr>\n",
       "      <th>Income</th>\n",
       "      <td>0.87</td>\n",
       "    </tr>\n",
       "    <tr>\n",
       "      <th>Loan Amount</th>\n",
       "      <td>1.03</td>\n",
       "    </tr>\n",
       "  </tbody>\n",
       "</table>\n",
       "</div>"
      ],
      "text/plain": [
       "              odd\n",
       "Income       0.87\n",
       "Loan Amount  1.03"
      ]
     },
     "execution_count": 48,
     "metadata": {},
     "output_type": "execute_result"
    }
   ],
   "source": [
    "# Assistant\n",
    "# Convert log odds to odds ratios by exponentiating and round to 2 decimal places\n",
    "odds = np.round(np.exp(log_odds), 2)\n",
    "# Create a DataFrame to display the odds ratios with feature names as index\n",
    "pd.DataFrame({'odd': odds}, index=X.columns)"
   ]
  },
  {
   "cell_type": "code",
   "execution_count": 50,
   "id": "98036068-0abd-4e31-8737-11b12b0046c0",
   "metadata": {},
   "outputs": [
    {
     "data": {
      "text/html": [
       "<div>\n",
       "<style scoped>\n",
       "    .dataframe tbody tr th:only-of-type {\n",
       "        vertical-align: middle;\n",
       "    }\n",
       "\n",
       "    .dataframe tbody tr th {\n",
       "        vertical-align: top;\n",
       "    }\n",
       "\n",
       "    .dataframe thead th {\n",
       "        text-align: right;\n",
       "    }\n",
       "</style>\n",
       "<table border=\"1\" class=\"dataframe\">\n",
       "  <thead>\n",
       "    <tr style=\"text-align: right;\">\n",
       "      <th></th>\n",
       "      <th>odd</th>\n",
       "    </tr>\n",
       "  </thead>\n",
       "  <tbody>\n",
       "    <tr>\n",
       "      <th>Income</th>\n",
       "      <td>0.87</td>\n",
       "    </tr>\n",
       "    <tr>\n",
       "      <th>Loan Amount</th>\n",
       "      <td>1.03</td>\n",
       "    </tr>\n",
       "  </tbody>\n",
       "</table>\n",
       "</div>"
      ],
      "text/plain": [
       "              odd\n",
       "Income       0.87\n",
       "Loan Amount  1.03"
      ]
     },
     "execution_count": 50,
     "metadata": {},
     "output_type": "execute_result"
    }
   ],
   "source": [
    "# Assistant explaination\n",
    "# Convert log odds to odds ratios by exponentiating and round to 2 decimal places\n",
    "odds = np.round(np.exp(log_odds), 2)\n",
    "# Create a DataFrame to display the odds ratios with feature names as index\n",
    "# Values < 1 indicate decreased odds of default (e.g., 0.87 means 13% decrease)\n",
    "# Values > 1 indicate increased odds of default (e.g., 1.03 means 3% increase)\n",
    "# For example: higher income reduces default odds, while higher loan amounts increase default odds\n",
    "pd.DataFrame({'odd': odds}, index=X.columns)"
   ]
  },
  {
   "cell_type": "markdown",
   "id": "2e9275f6-d952-4843-b6a2-bee8ac7f697d",
   "metadata": {},
   "source": [
    "The first coef tells us that for every $1 increase in a borrowers income,the odds that they will default on their loan reduces by 13%(1-0.87) when all other variables are held constant. .Likewise, the second coef shows that a $1 increase in the amount a customer borrows, increases the odds that they will default on their loan by 3%(1.03-1), (or the odds that a borrow will default on their loan increases by a factor of 1.03) when all other vairables are held constant.  Borrow moe moeny increases the odds of default. "
   ]
  },
  {
   "cell_type": "code",
   "execution_count": null,
   "id": "94c037ae-c067-4167-b37d-e4d712fa2f21",
   "metadata": {},
   "outputs": [],
   "source": []
  }
 ],
 "metadata": {
  "kernelspec": {
   "display_name": "Python [conda env:base] *",
   "language": "python",
   "name": "conda-base-py"
  },
  "language_info": {
   "codemirror_mode": {
    "name": "ipython",
    "version": 3
   },
   "file_extension": ".py",
   "mimetype": "text/x-python",
   "name": "python",
   "nbconvert_exporter": "python",
   "pygments_lexer": "ipython3",
   "version": "3.13.5"
  }
 },
 "nbformat": 4,
 "nbformat_minor": 5
}
